{
 "cells": [
  {
   "cell_type": "markdown",
   "metadata": {},
   "source": [
    "# HW3_Python"
   ]
  },
  {
   "cell_type": "markdown",
   "metadata": {},
   "source": [
    "# Kelly Whelan"
   ]
  },
  {
   "cell_type": "code",
   "execution_count": 1,
   "metadata": {
    "collapsed": false
   },
   "outputs": [
    {
     "name": "stdout",
     "output_type": "stream",
     "text": [
      "****\n",
      "*********\n",
      "*******\n",
      "None\n"
     ]
    }
   ],
   "source": [
    "def generate_n_chars(number,character):         #Defines a function 'generate_n_chars()' that takes an integer n and a character c and returns a string, n characters long, consisting only of c:s\n",
    "    new_string=''                               #this defines an empty string that we want to put all of our things into\n",
    "     \n",
    "    for i in range(number):                     #'range' is a built in function that creates lists or progression     \n",
    "        new_string = new_string+character       #this outputs the number of characters in the second postion\n",
    "    return new_string                           #returns the string with the amount of characters that is inputted into the function\n",
    "    \n",
    "\n",
    "def histogram(int_list):\n",
    "    \"\"\"\n",
    "    Defines a function histogram() that takes a list of integers and prints a histogram to the screen.\n",
    "    The parameters of the function is a list of integers and the output should be the number presented by '*'s'.\n",
    "    For example, if one of the numbers in the list is '4' the function should return four *'s = ****.\n",
    "    \"\"\" \n",
    "    for n in int_list:                         #this calls for an n in the int_list, which is the parameter of a list of integers\n",
    "        print(generate_n_chars( n, '*' ))       #reads the already defined funtion above 'generate_n_chars' from the previous homework and calls that function to print the histogram of the inputted integers by replacing the integer with a *\n",
    "\n",
    "print(histogram([4,9,7]))                      #this function should output ****, *********, and *******\n"
   ]
  },
  {
   "cell_type": "code",
   "execution_count": 3,
   "metadata": {
    "collapsed": false
   },
   "outputs": [
    {
     "name": "stdout",
     "output_type": "stream",
     "text": [
      "8\n",
      "8\n",
      "12\n",
      "3\n"
     ]
    }
   ],
   "source": [
    "def max_in_list(numb_list):\n",
    "    \"\"\"\n",
    "    Defines a function 'max_in_list()' that takes a list of numbers and returns the largest one without defining how many numbers are in the list of numbers.\n",
    "    The parameters of the function is a list of numbers and the output should be the number that is the largest in the list.\n",
    "    Regardless of how many numbers are in the list the only output is the greatest number.\n",
    "    \"\"\" \n",
    "    maxnumb = numb_list[0]                           #defines 'maxnumb' to be the parameter entered starting with 0\n",
    "    if len(numb_list) is 1: return maxnumb           #this states that if the length of the numb_list is just one number then the function prints that one number because it is therefore the largest in the list\n",
    "    else:                                            \n",
    "        for num in numb_list[1:]:                    #if there are more than one number in the list then this checks the other numbers\n",
    "            if num >= maxnumb: maxnumb = num         #to see if they are greater than or equal to the number and if so it defines the new number to be 'num' and keeps running through the input to check the largest number by repeating this process\n",
    "    return maxnumb                                   #once the all of the numbers are checked by this function the function prints the greatest one in the list\n",
    "\n",
    "print(max_in_list([1,5,6,8]))                        #this input has 4 numbers in the list so the function runs through each number checking if it is the largest number and returns the greatest which is 8 \n",
    "print(max_in_list([7,8,2]))                          #this input has 3 numbers in it and the largest being 8 so the output should be that number\n",
    "print(max_in_list([3,7,5,4,2,1,9,0,12]))             #the list has 9 numbers in it and the largest being 12 which should be the output\n",
    "print(max_in_list([3]))                              #this input satisfies the first if in the function because it is only one number therefore it outputs the one number"
   ]
  },
  {
   "cell_type": "code",
   "execution_count": 4,
   "metadata": {
    "collapsed": false
   },
   "outputs": [
    {
     "name": "stdout",
     "output_type": "stream",
     "text": [
      "[2, 5]\n"
     ]
    }
   ],
   "source": [
    "def map_to_lengths(words):\n",
    "    \"\"\"\n",
    "    Defines a function that maps a list of words into a list of integers representing the lengths of the corresponding words.\n",
    "    The parameters of the function is a list of words and the output should be the number of the length of that particular word (list of integers).\n",
    "    For example, ['hello'] should return [5] because that is how many individual letters are in the word hello.\n",
    "    \"\"\" \n",
    "    lengths = []                          #defines the empty list by the word 'length' that will return the outputs which the input calls for\n",
    "    for word in words:                    #this calls the input list of words and goes through each word entered\n",
    "        lengths.append(len(word))         #'len' is the built in function that returns the length (the number of items) of an object\n",
    "    return lengths                        #after looping through the input and finding the length of each word it returns the list of integers that take the place of the words\n",
    " \n",
    "print(map_to_lengths(['hi','kelly']))     #should return the number 2 for the word hi and the number 5 for the word kelly because that is how many letters are in each word.\n"
   ]
  },
  {
   "cell_type": "code",
   "execution_count": 5,
   "metadata": {
    "collapsed": false
   },
   "outputs": [
    {
     "name": "stdout",
     "output_type": "stream",
     "text": [
      "6\n",
      "7\n"
     ]
    }
   ],
   "source": [
    "def find_longest_word(list1):\n",
    "    \"\"\"\n",
    "    Defines a function 'find_longest_word()' that takes a list of strings of words and returns the length of the longest individual word.\n",
    "    The parameters of the function is a list of individual strings and the output should be the number of the length of the longest word in the list.\n",
    "    For example, ['hi','world','todays'] should return [6] because that is how many individual letters are in the word 'todays' which is the longest word in the list of strings.\n",
    "    \"\"\" \n",
    "    return max_in_list(map_to_lengths(list1))             #the function calls 'max_in_list()' and 'map_to_lengths_()' which are two functions defined above in order to ouput the length of the longest individual word in the list of strings.    \n",
    "\n",
    "print(find_longest_word(['hi','world','todays']))           #the function should return the length of 'todays' because that is the largest word in the individual strings in the list\n",
    "print(find_longest_word(['math','october']))                #should output the number of letters in the word october being that the length of october is greater than the length in math.\n"
   ]
  },
  {
   "cell_type": "code",
   "execution_count": 6,
   "metadata": {
    "collapsed": false
   },
   "outputs": [
    {
     "name": "stdout",
     "output_type": "stream",
     "text": [
      "['what are you doing']\n",
      "['math classes are fun']\n",
      "['how are you doing', 'kelly']\n"
     ]
    }
   ],
   "source": [
    "def filter_long_words(list1, n):\n",
    "    \"\"\"\n",
    "    Defines a function 'filter_long_words()' that takes a list of words and an integer n and returns the list of words that are longer than n.\n",
    "    The parameters of the function is a list of words and the output should be the list of words that are longer than the integer entered.\n",
    "    For example, if the input is 'how are you' and 'hi' and the integer is 2 then the output should be 'how are you' since the length is larger than 2.\n",
    "    \"\"\"     \n",
    "    lengths = []                                          #this defines an empty list that we want to put the outcomes of the inputs in \n",
    "    listOflength = map_to_lengths(list1)                  #'listOflength' calls on a function previously defined 'map_to_lengths()' and the parameter entered\n",
    "    for i in range(len(listOflength)):                    #'range' and 'len' are both built in functions that are used to run through the inputs, 'range' is a built in function that creates lists or progression   \n",
    "        if listOflength[i]>n: lengths.append(list1[i])    #if the inputted string in the list is greater than the integer then it outputs that string and keeps running through the function because of the .append and checks if the following strings if there are any are greater than n as well\n",
    "    return lengths                                        #when the function is finsihed running through each string in the list it outputs only the strings that are longer than n\n",
    "\n",
    "print(filter_long_words(['hi','what are you doing'],4))   #'hi' is of length 2, 'what are you doing' is of length 15 which > 4 so only the second string is printed \n",
    "print(filter_long_words(['math classes are fun'],7))      #there is only one string in this list of length > 7 so it is outputted to the screen\n",
    "print(filter_long_words(['how are you doing','kelly'],2)) #both strings in this input are greater than the integer 2 so both will be outputted"
   ]
  },
  {
   "cell_type": "code",
   "execution_count": 7,
   "metadata": {
    "collapsed": false
   },
   "outputs": [
    {
     "name": "stdout",
     "output_type": "stream",
     "text": [
      "False\n",
      "False\n",
      "False\n"
     ]
    }
   ],
   "source": [
    "def phrase_palindromes(iterable): \n",
    "    \"\"\"\n",
    "    'phrase_palindromes' accepts phrase palindromes such as \"Go hang a salami I'm a lasagna hog.\", \n",
    "    \"Was it a rat I saw?\", \"Step on no pets\", \"Sit on a potato pan, Otis\", \"Lisa Bonet ate no basil\", \n",
    "    \"Rise to vote sir\", or the exclamation \"Dammit, I'm mad!\". Note that punctuation, capitalization, \n",
    "    and spacing are usually ignored.\n",
    "    \"\"\"\n",
    "    s = list(iterable); return s == s[1:-1]\n",
    "\n",
    "    \n",
    "print(phrase_palindromes('Go hang a salami Im a lasagna hog'))\n",
    "print(phrase_palindromes('Was it a rat I saw?'))\n",
    "print(phrase_palindromes('radar'))\n",
    "\n",
    "# SW: lost points: your function (still) does not work. the above are clearly palindrome \n",
    "# phrases, but your function returns False."
   ]
  },
  {
   "cell_type": "code",
   "execution_count": 14,
   "metadata": {
    "collapsed": false
   },
   "outputs": [
    {
     "name": "stdout",
     "output_type": "stream",
     "text": [
      "Sentence:foo\n",
      "False\n"
     ]
    }
   ],
   "source": [
    "import string, sys                                    #this imports the sys module and an import statement of an outside function\n",
    "if sys.version_info[0] < 3:                           #'sys.version_info' means sys.version_info(major=2, minor=7, micro=10, releaselevel='final', serial=0\n",
    "    input = raw_input\n",
    "\n",
    "def pangram(sentence, alphabet=string.ascii_lowercase):    #'string.ascii_lowercase' is defined as 'abcdefghijklmnopqrstuvwxyz'\n",
    "    \"\"\"\n",
    "    Defines a function 'pangram()' that checks if a sentence is a pangram, which is a sentence that contains all the letters of the English alphabet at least once.\n",
    "    The function runs and then asks for a sentence to be inputted and returns True or False depending on the input. \n",
    "    \"\"\" \n",
    "    alphaset = set(alphabet)                               #the built in function 'set' returns a new set object, optionally with elements taken from iterable\n",
    "    return alphaset <= set(sentence.lower())               #then the function runs through itself \n",
    "  \n",
    "print(pangram(input('Sentence:')))                         #the function prints a box where the input should be entered as a sentence to check if is a pangram and prints True or False"
   ]
  },
  {
   "cell_type": "code",
   "execution_count": 8,
   "metadata": {
    "collapsed": false
   },
   "outputs": [
    {
     "name": "stdout",
     "output_type": "stream",
     "text": [
      "99bottles of coke on the wall,99bottles of coke.\n",
      "Take one down, pass it around,98bottles of coke on the wall\n",
      "98bottles of coke on the wall,98bottles of coke.\n",
      "Take one down, pass it around,97bottles of coke on the wall\n",
      "97bottles of coke on the wall,97bottles of coke.\n",
      "Take one down, pass it around,96bottles of coke on the wall\n",
      "96bottles of coke on the wall,96bottles of coke.\n",
      "Take one down, pass it around,95bottles of coke on the wall\n",
      "95bottles of coke on the wall,95bottles of coke.\n",
      "Take one down, pass it around,94bottles of coke on the wall\n",
      "94bottles of coke on the wall,94bottles of coke.\n",
      "Take one down, pass it around,93bottles of coke on the wall\n",
      "93bottles of coke on the wall,93bottles of coke.\n",
      "Take one down, pass it around,92bottles of coke on the wall\n",
      "92bottles of coke on the wall,92bottles of coke.\n",
      "Take one down, pass it around,91bottles of coke on the wall\n",
      "91bottles of coke on the wall,91bottles of coke.\n",
      "Take one down, pass it around,90bottles of coke on the wall\n",
      "90bottles of coke on the wall,90bottles of coke.\n",
      "Take one down, pass it around,89bottles of coke on the wall\n",
      "89bottles of coke on the wall,89bottles of coke.\n",
      "Take one down, pass it around,88bottles of coke on the wall\n",
      "88bottles of coke on the wall,88bottles of coke.\n",
      "Take one down, pass it around,87bottles of coke on the wall\n",
      "87bottles of coke on the wall,87bottles of coke.\n",
      "Take one down, pass it around,86bottles of coke on the wall\n",
      "86bottles of coke on the wall,86bottles of coke.\n",
      "Take one down, pass it around,85bottles of coke on the wall\n",
      "85bottles of coke on the wall,85bottles of coke.\n",
      "Take one down, pass it around,84bottles of coke on the wall\n",
      "84bottles of coke on the wall,84bottles of coke.\n",
      "Take one down, pass it around,83bottles of coke on the wall\n",
      "83bottles of coke on the wall,83bottles of coke.\n",
      "Take one down, pass it around,82bottles of coke on the wall\n",
      "82bottles of coke on the wall,82bottles of coke.\n",
      "Take one down, pass it around,81bottles of coke on the wall\n",
      "81bottles of coke on the wall,81bottles of coke.\n",
      "Take one down, pass it around,80bottles of coke on the wall\n",
      "80bottles of coke on the wall,80bottles of coke.\n",
      "Take one down, pass it around,79bottles of coke on the wall\n",
      "79bottles of coke on the wall,79bottles of coke.\n",
      "Take one down, pass it around,78bottles of coke on the wall\n",
      "78bottles of coke on the wall,78bottles of coke.\n",
      "Take one down, pass it around,77bottles of coke on the wall\n",
      "77bottles of coke on the wall,77bottles of coke.\n",
      "Take one down, pass it around,76bottles of coke on the wall\n",
      "76bottles of coke on the wall,76bottles of coke.\n",
      "Take one down, pass it around,75bottles of coke on the wall\n",
      "75bottles of coke on the wall,75bottles of coke.\n",
      "Take one down, pass it around,74bottles of coke on the wall\n",
      "74bottles of coke on the wall,74bottles of coke.\n",
      "Take one down, pass it around,73bottles of coke on the wall\n",
      "73bottles of coke on the wall,73bottles of coke.\n",
      "Take one down, pass it around,72bottles of coke on the wall\n",
      "72bottles of coke on the wall,72bottles of coke.\n",
      "Take one down, pass it around,71bottles of coke on the wall\n",
      "71bottles of coke on the wall,71bottles of coke.\n",
      "Take one down, pass it around,70bottles of coke on the wall\n",
      "70bottles of coke on the wall,70bottles of coke.\n",
      "Take one down, pass it around,69bottles of coke on the wall\n",
      "69bottles of coke on the wall,69bottles of coke.\n",
      "Take one down, pass it around,68bottles of coke on the wall\n",
      "68bottles of coke on the wall,68bottles of coke.\n",
      "Take one down, pass it around,67bottles of coke on the wall\n",
      "67bottles of coke on the wall,67bottles of coke.\n",
      "Take one down, pass it around,66bottles of coke on the wall\n",
      "66bottles of coke on the wall,66bottles of coke.\n",
      "Take one down, pass it around,65bottles of coke on the wall\n",
      "65bottles of coke on the wall,65bottles of coke.\n",
      "Take one down, pass it around,64bottles of coke on the wall\n",
      "64bottles of coke on the wall,64bottles of coke.\n",
      "Take one down, pass it around,63bottles of coke on the wall\n",
      "63bottles of coke on the wall,63bottles of coke.\n",
      "Take one down, pass it around,62bottles of coke on the wall\n",
      "62bottles of coke on the wall,62bottles of coke.\n",
      "Take one down, pass it around,61bottles of coke on the wall\n",
      "61bottles of coke on the wall,61bottles of coke.\n",
      "Take one down, pass it around,60bottles of coke on the wall\n",
      "60bottles of coke on the wall,60bottles of coke.\n",
      "Take one down, pass it around,59bottles of coke on the wall\n",
      "59bottles of coke on the wall,59bottles of coke.\n",
      "Take one down, pass it around,58bottles of coke on the wall\n",
      "58bottles of coke on the wall,58bottles of coke.\n",
      "Take one down, pass it around,57bottles of coke on the wall\n",
      "57bottles of coke on the wall,57bottles of coke.\n",
      "Take one down, pass it around,56bottles of coke on the wall\n",
      "56bottles of coke on the wall,56bottles of coke.\n",
      "Take one down, pass it around,55bottles of coke on the wall\n",
      "55bottles of coke on the wall,55bottles of coke.\n",
      "Take one down, pass it around,54bottles of coke on the wall\n",
      "54bottles of coke on the wall,54bottles of coke.\n",
      "Take one down, pass it around,53bottles of coke on the wall\n",
      "53bottles of coke on the wall,53bottles of coke.\n",
      "Take one down, pass it around,52bottles of coke on the wall\n",
      "52bottles of coke on the wall,52bottles of coke.\n",
      "Take one down, pass it around,51bottles of coke on the wall\n",
      "51bottles of coke on the wall,51bottles of coke.\n",
      "Take one down, pass it around,50bottles of coke on the wall\n",
      "50bottles of coke on the wall,50bottles of coke.\n",
      "Take one down, pass it around,49bottles of coke on the wall\n",
      "49bottles of coke on the wall,49bottles of coke.\n",
      "Take one down, pass it around,48bottles of coke on the wall\n",
      "48bottles of coke on the wall,48bottles of coke.\n",
      "Take one down, pass it around,47bottles of coke on the wall\n",
      "47bottles of coke on the wall,47bottles of coke.\n",
      "Take one down, pass it around,46bottles of coke on the wall\n",
      "46bottles of coke on the wall,46bottles of coke.\n",
      "Take one down, pass it around,45bottles of coke on the wall\n",
      "45bottles of coke on the wall,45bottles of coke.\n",
      "Take one down, pass it around,44bottles of coke on the wall\n",
      "44bottles of coke on the wall,44bottles of coke.\n",
      "Take one down, pass it around,43bottles of coke on the wall\n",
      "43bottles of coke on the wall,43bottles of coke.\n",
      "Take one down, pass it around,42bottles of coke on the wall\n",
      "42bottles of coke on the wall,42bottles of coke.\n",
      "Take one down, pass it around,41bottles of coke on the wall\n",
      "41bottles of coke on the wall,41bottles of coke.\n",
      "Take one down, pass it around,40bottles of coke on the wall\n",
      "40bottles of coke on the wall,40bottles of coke.\n",
      "Take one down, pass it around,39bottles of coke on the wall\n",
      "39bottles of coke on the wall,39bottles of coke.\n",
      "Take one down, pass it around,38bottles of coke on the wall\n",
      "38bottles of coke on the wall,38bottles of coke.\n",
      "Take one down, pass it around,37bottles of coke on the wall\n",
      "37bottles of coke on the wall,37bottles of coke.\n",
      "Take one down, pass it around,36bottles of coke on the wall\n",
      "36bottles of coke on the wall,36bottles of coke.\n",
      "Take one down, pass it around,35bottles of coke on the wall\n",
      "35bottles of coke on the wall,35bottles of coke.\n",
      "Take one down, pass it around,34bottles of coke on the wall\n",
      "34bottles of coke on the wall,34bottles of coke.\n",
      "Take one down, pass it around,33bottles of coke on the wall\n",
      "33bottles of coke on the wall,33bottles of coke.\n",
      "Take one down, pass it around,32bottles of coke on the wall\n",
      "32bottles of coke on the wall,32bottles of coke.\n",
      "Take one down, pass it around,31bottles of coke on the wall\n",
      "31bottles of coke on the wall,31bottles of coke.\n",
      "Take one down, pass it around,30bottles of coke on the wall\n",
      "30bottles of coke on the wall,30bottles of coke.\n",
      "Take one down, pass it around,29bottles of coke on the wall\n",
      "29bottles of coke on the wall,29bottles of coke.\n",
      "Take one down, pass it around,28bottles of coke on the wall\n",
      "28bottles of coke on the wall,28bottles of coke.\n",
      "Take one down, pass it around,27bottles of coke on the wall\n",
      "27bottles of coke on the wall,27bottles of coke.\n",
      "Take one down, pass it around,26bottles of coke on the wall\n",
      "26bottles of coke on the wall,26bottles of coke.\n",
      "Take one down, pass it around,25bottles of coke on the wall\n",
      "25bottles of coke on the wall,25bottles of coke.\n",
      "Take one down, pass it around,24bottles of coke on the wall\n",
      "24bottles of coke on the wall,24bottles of coke.\n",
      "Take one down, pass it around,23bottles of coke on the wall\n",
      "23bottles of coke on the wall,23bottles of coke.\n",
      "Take one down, pass it around,22bottles of coke on the wall\n",
      "22bottles of coke on the wall,22bottles of coke.\n",
      "Take one down, pass it around,21bottles of coke on the wall\n",
      "21bottles of coke on the wall,21bottles of coke.\n",
      "Take one down, pass it around,20bottles of coke on the wall\n",
      "20bottles of coke on the wall,20bottles of coke.\n",
      "Take one down, pass it around,19bottles of coke on the wall\n",
      "19bottles of coke on the wall,19bottles of coke.\n",
      "Take one down, pass it around,18bottles of coke on the wall\n",
      "18bottles of coke on the wall,18bottles of coke.\n",
      "Take one down, pass it around,17bottles of coke on the wall\n",
      "17bottles of coke on the wall,17bottles of coke.\n",
      "Take one down, pass it around,16bottles of coke on the wall\n",
      "16bottles of coke on the wall,16bottles of coke.\n",
      "Take one down, pass it around,15bottles of coke on the wall\n",
      "15bottles of coke on the wall,15bottles of coke.\n",
      "Take one down, pass it around,14bottles of coke on the wall\n",
      "14bottles of coke on the wall,14bottles of coke.\n",
      "Take one down, pass it around,13bottles of coke on the wall\n",
      "13bottles of coke on the wall,13bottles of coke.\n",
      "Take one down, pass it around,12bottles of coke on the wall\n",
      "12bottles of coke on the wall,12bottles of coke.\n",
      "Take one down, pass it around,11bottles of coke on the wall\n",
      "11bottles of coke on the wall,11bottles of coke.\n",
      "Take one down, pass it around,10bottles of coke on the wall\n",
      "10bottles of coke on the wall,10bottles of coke.\n",
      "Take one down, pass it around,9bottles of coke on the wall\n",
      "9bottles of coke on the wall,9bottles of coke.\n",
      "Take one down, pass it around,8bottles of coke on the wall\n",
      "8bottles of coke on the wall,8bottles of coke.\n",
      "Take one down, pass it around,7bottles of coke on the wall\n",
      "7bottles of coke on the wall,7bottles of coke.\n",
      "Take one down, pass it around,6bottles of coke on the wall\n",
      "6bottles of coke on the wall,6bottles of coke.\n",
      "Take one down, pass it around,5bottles of coke on the wall\n",
      "5bottles of coke on the wall,5bottles of coke.\n",
      "Take one down, pass it around,4bottles of coke on the wall\n",
      "4bottles of coke on the wall,4bottles of coke.\n",
      "Take one down, pass it around,3bottles of coke on the wall\n",
      "3bottles of coke on the wall,3bottles of coke.\n",
      "Take one down, pass it around,2bottles of coke on the wall\n",
      "2bottles of coke on the wall,2bottles of coke.\n",
      "Take one down, pass it around,1bottles of coke on the wall\n",
      "1bottles of coke on the wall,1bottles of coke.\n",
      "Take one down, pass it around,0bottles of coke on the wall\n",
      "None\n"
     ]
    }
   ],
   "source": [
    "def ninety_nine_bottles_of_coke():\n",
    "    \"\"\"\n",
    "    Define a function to write a Python program capable of generating all the verses of the song \"99 Bottles of Coke\" which has a very repetitive format.\n",
    "    The song is completed when the singers reach the number 0 bottles of coke on the wall. So the function should output all of the verses until it reaches 0.\n",
    "    \"\"\" \n",
    "    count = 99                           #defines 'count' to be 99, which is where the first verse starts counting\n",
    "    while count > 0:\n",
    "        print(str(count) + 'bottles of coke on the wall,' + str(count) + 'bottles of coke.')      #the built in function 'str' means to return a string containing a nicely printable representation of an object\n",
    "        print('Take one down, pass it around,' + str(count - 1) + 'bottles of coke on the wall')\n",
    "        count -= 1    \n",
    "\n",
    "print(ninety_nine_bottles_of_coke())    #this input will output the lyrics to the whole song starting at 99 and ending at 0\n"
   ]
  },
  {
   "cell_type": "code",
   "execution_count": 10,
   "metadata": {
    "collapsed": false
   },
   "outputs": [
    {
     "name": "stdout",
     "output_type": "stream",
     "text": [
      "god \n",
      "jul \n",
      "gott \n"
     ]
    },
    {
     "ename": "AttributeError",
     "evalue": "'list' object has no attribute 'split'",
     "output_type": "error",
     "traceback": [
      "\u001b[0;31m---------------------------------------------------------------------------\u001b[0m",
      "\u001b[0;31mAttributeError\u001b[0m                            Traceback (most recent call last)",
      "\u001b[0;32m<ipython-input-10-fdb3c1a38b65>\u001b[0m in \u001b[0;36m<module>\u001b[0;34m()\u001b[0m\n\u001b[1;32m     21\u001b[0m \u001b[0mprint\u001b[0m\u001b[0;34m(\u001b[0m\u001b[0mtranslate\u001b[0m\u001b[0;34m(\u001b[0m\u001b[0;34m'happy'\u001b[0m\u001b[0;34m)\u001b[0m\u001b[0;34m)\u001b[0m                            \u001b[0;31m#returns 'gott' being that is the Swedish word for 'happy' as defined in the dictionary\u001b[0m\u001b[0;34m\u001b[0m\u001b[0m\n\u001b[1;32m     22\u001b[0m \u001b[0;34m\u001b[0m\u001b[0m\n\u001b[0;32m---> 23\u001b[0;31m \u001b[0mprint\u001b[0m\u001b[0;34m(\u001b[0m\u001b[0mtranslate\u001b[0m\u001b[0;34m(\u001b[0m\u001b[0;34m[\u001b[0m\u001b[0;34m'merry'\u001b[0m\u001b[0;34m,\u001b[0m\u001b[0;34m'christmas'\u001b[0m\u001b[0;34m]\u001b[0m\u001b[0;34m)\u001b[0m\u001b[0;34m)\u001b[0m\u001b[0;34m\u001b[0m\u001b[0m\n\u001b[0m",
      "\u001b[0;32m<ipython-input-10-fdb3c1a38b65>\u001b[0m in \u001b[0;36mtranslate\u001b[0;34m(inputString)\u001b[0m\n\u001b[1;32m      8\u001b[0m     \"\"\" \n\u001b[1;32m      9\u001b[0m     \u001b[0minput_s\u001b[0m \u001b[0;34m=\u001b[0m \u001b[0;34m\"\"\u001b[0m                                         \u001b[0;31m#defines an empty string that will be used to return the output of the inputs\u001b[0m\u001b[0;34m\u001b[0m\u001b[0m\n\u001b[0;32m---> 10\u001b[0;31m     \u001b[0;32mfor\u001b[0m \u001b[0mi\u001b[0m \u001b[0;32min\u001b[0m \u001b[0minputString\u001b[0m\u001b[0;34m.\u001b[0m\u001b[0msplit\u001b[0m\u001b[0;34m(\u001b[0m\u001b[0;34m\" \"\u001b[0m\u001b[0;34m)\u001b[0m\u001b[0;34m:\u001b[0m\u001b[0;34m\u001b[0m\u001b[0m\n\u001b[0m\u001b[1;32m     11\u001b[0m         \u001b[0;32mif\u001b[0m \u001b[0;34m(\u001b[0m\u001b[0mstr\u001b[0m\u001b[0;34m(\u001b[0m\u001b[0mdictionary\u001b[0m\u001b[0;34m.\u001b[0m\u001b[0mget\u001b[0m\u001b[0;34m(\u001b[0m\u001b[0mi\u001b[0m\u001b[0;34m)\u001b[0m\u001b[0;34m)\u001b[0m\u001b[0;34m)\u001b[0m \u001b[0;34m!=\u001b[0m \u001b[0;34m\"None\"\u001b[0m\u001b[0;34m:\u001b[0m           \u001b[0;31m#the built in function 'str' means to return a string containing a nicely printable representation of an object\u001b[0m\u001b[0;34m\u001b[0m\u001b[0m\n\u001b[1;32m     12\u001b[0m             \u001b[0minput_s\u001b[0m \u001b[0;34m=\u001b[0m \u001b[0minput_s\u001b[0m\u001b[0;34m+\u001b[0m\u001b[0mstr\u001b[0m\u001b[0;34m(\u001b[0m\u001b[0mdictionary\u001b[0m\u001b[0;34m.\u001b[0m\u001b[0mget\u001b[0m\u001b[0;34m(\u001b[0m\u001b[0mi\u001b[0m\u001b[0;34m)\u001b[0m\u001b[0;34m)\u001b[0m\u001b[0;34m+\u001b[0m\u001b[0;34m\" \"\u001b[0m\u001b[0;34m\u001b[0m\u001b[0m\n",
      "\u001b[0;31mAttributeError\u001b[0m: 'list' object has no attribute 'split'"
     ]
    }
   ],
   "source": [
    "import re\n",
    "dictionary = {\"merry\":\"god\",\"christmas\":\"jul\",\"and\":\"och\",\"happy\":\"gott\",\"new\":\"nytt\",\"year\":\"år\"}\n",
    "\n",
    "def translate(inputString):\n",
    "    \"\"\"\n",
    "    Defines a function that takes a list of English words and returns a list of Swedish words.\n",
    "    The parameters of the function is a string containing a word that will be translated through this function.\n",
    "    \"\"\" \n",
    "    input_s = \"\"                                         #defines an empty string that will be used to return the output of the inputs                                             \n",
    "    for i in inputString.split(\" \"):                     \n",
    "        if (str(dictionary.get(i))) != \"None\":           #the built in function 'str' means to return a string containing a nicely printable representation of an object\n",
    "            input_s = input_s+str(dictionary.get(i))+\" \"\n",
    "        else: \n",
    "            input_s = \"\"                                 \n",
    "        return input_s                                   \n",
    "            \n",
    "    return input_s\n",
    "    \n",
    "print(translate('merry'))                            #this input should output 'god' as defined in the dictionary at the top of the screen\n",
    "print(translate('christmas'))                        #this input should run through the dictionary defined and output the Swedish word that is equivalent to the English word\n",
    "print(translate('happy'))                            #returns 'gott' being that is the Swedish word for 'happy' as defined in the dictionary\n",
    "# SW: lost points: your function was to accept a list parameter, but you have written it to \n",
    "# accept only a single string. the below should work.\n",
    "print(translate(['merry','christmas']))"
   ]
  },
  {
   "cell_type": "code",
   "execution_count": null,
   "metadata": {
    "collapsed": false
   },
   "outputs": [],
   "source": [
    "def char_freq(_string):\n",
    "    \"\"\"\n",
    "    Defines a function char_freq() that takes a string and builds a frequency listing of the characters contained in it. \n",
    "    This function will represent the frequency listing as a Python dictionary. \n",
    "    For example, 'char_freq(\"abbabcbdbabdbdbabababcbcbab\")' will output the numbers of how many individual letters there are in each.\n",
    "    \"\"\" \n",
    "    from collections import OrderedDict                   #this calls on the OrderedDict module\n",
    "    freq_dict = OrderedDict()                             \n",
    "    for char in _string:                                  #this loop will check how many of each individual letters there are in the input and output the integer.\n",
    "        if char not in freq_dict.keys(): freq_dict[char] = _string.count(char)\n",
    "    return freq_dict\n",
    "\n",
    "print(char_freq('abbabcbdbabdbdbabababcbcbab'))           #the output will be a list of pairs indicating how many letters of each are in the input\n",
    "print(char_freq('jjkkkkklllllsssssaaaaaolili'))           #the output will be a list of pairs indicating how many letters of each are in the input\n"
   ]
  },
  {
   "cell_type": "code",
   "execution_count": 15,
   "metadata": {
    "collapsed": false
   },
   "outputs": [
    {
     "name": "stdout",
     "output_type": "stream",
     "text": [
      "Caesar cipher? I much prefer Caesar salad!\n",
      "uv ubj ner lbh gbqnl\n"
     ]
    }
   ],
   "source": [
    "def cryptography(aphrase):\n",
    "    \"\"\"\n",
    "    Defines a function to implement an encoder/decoder of ROT-13. Once you're done, you will be able to read the following secret message: \n",
    "    Pnrfne pvcure? V zhpu cersre Pnrfne fnynq! \n",
    "    The parameters of this function is a string which will be deciphered by the function.\n",
    "\n",
    "    \"\"\" \n",
    "    from collections import OrderedDict\n",
    "    def cipher_dict(shift):\n",
    "        lowers = string.ascii_lowercase\n",
    "        keyvals = [(ch,lowers[(lowers.index( ch ) + shift) % 26]) for ch in lowers]\n",
    "        return OrderedDict(keyvals + [(keyval[0].upper(),keyval[1].upper()) for keyval in keyvals] )\n",
    "    def cipher(text, thecipher):\n",
    "        ignored_chars = string.punctuation + string.digits + ' '\n",
    "        return ''.join([ch if ch in ignored_chars else thecipher[ch] for ch in text] )\n",
    "    return cipher(aphrase, cipher_dict(shift=13))\n",
    "\n",
    "print(cryptography('Pnrfne pvcure? V zhpu cersre Pnrfne fnynq!'))\n",
    "print(cryptography('hi how are you today'))                           #can also decode texts written in English\n",
    "# SW: lost points: this is still not quite correct. I see that you have updated the function\n",
    "# to use string.ascii_lowercase, but did you test it? you need to include import string to \n",
    "# be able to call string.ascii_lowercase. you import the library above (before your pangram\n",
    "# code), but in general if a function depends on a library, you should load the library\n",
    "# from within the function or give a helpful error message that the library is required."
   ]
  },
  {
   "cell_type": "code",
   "execution_count": null,
   "metadata": {
    "collapsed": false
   },
   "outputs": [],
   "source": [
    "def correct(astring):\n",
    "    \"\"\"\n",
    "    Defines a function correct() that takes a string and sees to it that 1) two or more occurrences of the space character is compressed into one, and 2) inserts an extra space after a period if the period is directly followed by a letter. \n",
    "    For example, correct(\"This is very funny and cool.Indeed!\") should return \"This is very funny and cool. Indeed!\"\n",
    "    The parameter is a string.\n",
    "    \"\"\" \n",
    "    import re       #imports the re module\n",
    "    return re.sub(r'\\.\\s*(?!$)', r'. ', re.sub( r'\\s+', ' ', astring))\n",
    "   \n",
    "print(correct('This is very funny and cool.Indeed!')) #this input will output the same thing with an added space between the period and Indeed\n"
   ]
  },
  {
   "cell_type": "code",
   "execution_count": 232,
   "metadata": {
    "collapsed": false
   },
   "outputs": [
    {
     "name": "stdout",
     "output_type": "stream",
     "text": [
      "tries\n",
      "brushes\n",
      "runs\n",
      "fixes\n"
     ]
    }
   ],
   "source": [
    "def make_3sg_form(infinitive_verb):                                   \n",
    "    \"\"\"\n",
    "    Defines a function make_3sg_form() which given a verb in infinitive form returns its third person singular form. \n",
    "    Test your function with words like try, brush, run and fix.\n",
    "    The parameter is a string consisting of a word.\n",
    "    \"\"\" \n",
    "    if infinitive_verb.endswith( 'y' ):                                 #this checks if the word ends in a 'y'\n",
    "        return infinitive_verb[:-1] + 'ies'                             #if so then the function takes off the 'y' and adds 'ies'\n",
    "    elif infinitive_verb.endswith( ('o', 'ch', 's', 'sh', 'x', 'z') ):  #this checks if it ends with 'o', 'ch', 's', 'sh', 'x', 'z'\n",
    "        return infinitive_verb + 'es'                                   #if so drop the ending letter and add 'es'\n",
    "    else:\n",
    "        return infinitive_verb + 's'                                    #\n",
    "    \n",
    "print(make_3sg_form('try'))               #drops the y and adds ies\n",
    "print(make_3sg_form('brush'))             #adds 'es' to the end of the word making it plural\n",
    "print(make_3sg_form('run'))               #adds an 's' to the end of the word\n",
    "print(make_3sg_form('fix'))               #adds 'es' to the end of the word to make it plural"
   ]
  },
  {
   "cell_type": "code",
   "execution_count": 20,
   "metadata": {
    "collapsed": false
   },
   "outputs": [
    {
     "ename": "SyntaxError",
     "evalue": "unexpected character after line continuation character (<ipython-input-20-3fb85e769182>, line 9)",
     "output_type": "error",
     "traceback": [
      "\u001b[0;36m  File \u001b[0;32m\"<ipython-input-20-3fb85e769182>\"\u001b[0;36m, line \u001b[0;32m9\u001b[0m\n\u001b[0;31m    elif infinitive_verb.endswith('e') and     not (infinitive_verb.endswith('ee') and len(infinitive_verb) > 2) \\\u001b[0m\n\u001b[0m                                                                                                                       ^\u001b[0m\n\u001b[0;31mSyntaxError\u001b[0m\u001b[0;31m:\u001b[0m unexpected character after line continuation character\n"
     ]
    }
   ],
   "source": [
    "def make_ing_form(infinitive_verb):\n",
    "    \"\"\"\n",
    "    Defines a function make_ing_form() which given a verb in infinitive form returns its present participle form. \n",
    "    Test your function with words such as lie, see, move and hug. However, you must not expect such simple rules to work for all cases.\n",
    "    \"\"\" \n",
    "    if infinitive_verb.endswith('ie'):                                      \n",
    "        print('checking ie')\n",
    "        return infinitive_verb[:-2] + 'ying'                                \n",
    "    elif infinitive_verb.endswith('e') and \\\n",
    "    not (infinitive_verb.endswith('ee') and len(infinitive_verb) > 2) \\     \n",
    "    and not len( infinitive_verb ) is 2:                                    \n",
    "        print('checking e')                                                  \n",
    "        return infinitive_verb[:-1] + 'ing'                                 \n",
    "    elif len(infinitive_verb) is 3 and not \\                                \n",
    "    (char_is_vowel(infinitive_verb[0]) or \\                                 \n",
    "     char_is_vowel(infinitive_verb[2])) and \\                               \n",
    "    char_is_vowel(infinitive_verb[1]):                                      \n",
    "        return infinitive_verb + infinitive_verb[2] + 'ing'\n",
    "    else:\n",
    "        return infinitive_verb + 'ing'\n",
    "\n",
    "print(make_ing_form('lie'))               #checks the word and drops the 'ie' and adds 'ying'\n",
    "print(make_ing_form('be'))                #adds 'ing' to the end of the word\n",
    "print(make_ing_form('move'))              #drops the 'e' and adds 'ing' to the end of the word\n",
    "\n",
    "# SW: lost points: your code does not work as written, did you test it? it looks like you are\n",
    "# having difficult with the multiple Boolean comparisons."
   ]
  },
  {
   "cell_type": "code",
   "execution_count": null,
   "metadata": {
    "collapsed": true
   },
   "outputs": [],
   "source": []
  }
 ],
 "metadata": {
  "kernelspec": {
   "display_name": "Python 3",
   "language": "python",
   "name": "python3"
  },
  "language_info": {
   "codemirror_mode": {
    "name": "ipython",
    "version": 3
   },
   "file_extension": ".py",
   "mimetype": "text/x-python",
   "name": "python",
   "nbconvert_exporter": "python",
   "pygments_lexer": "ipython3",
   "version": "3.4.3"
  }
 },
 "nbformat": 4,
 "nbformat_minor": 0
}
