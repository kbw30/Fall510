{
 "cells": [
  {
   "cell_type": "markdown",
   "metadata": {},
   "source": [
    "# TEST1_PYTHON"
   ]
  },
  {
   "cell_type": "markdown",
   "metadata": {},
   "source": [
    "# Kelly Whelan"
   ]
  },
  {
   "cell_type": "code",
   "execution_count": 33,
   "metadata": {
    "collapsed": false
   },
   "outputs": [
    {
     "data": {
      "text/plain": [
       "8"
      ]
     },
     "execution_count": 33,
     "metadata": {},
     "output_type": "execute_result"
    }
   ],
   "source": [
    "#Let coords be a vector of x,y pairs that describe the vertices of a polygon given in order.\n",
    "coords = [(0,0),(2,0),(2,2),(0,2)]\n",
    "\n",
    "def segments(coords):\n",
    "    \"\"\"\n",
    "    Defines the function 'segments' which takes coords as its parameter. \n",
    "    Coords is a sequence of (x,y) numeric coordinates pairs.\n",
    "    \"\"\"\n",
    "    return zip(coords, coords[1:] + [coords[0]])     #'zip' is a built in function that makes an iterator that aggregates elements from each of the iterables. And + sums the coords.\n",
    "\n",
    "def polygperim(coords):\n",
    "    \"\"\"\n",
    "    Defines a function 'polygperim' which computes the perimeter of a polygon. The parameters of this function is a sequence of (x,y) numeric coordinates pairs. \n",
    "    \"\"\"\n",
    "    return abs(sum(x0*y1 - x1*y0              #'abs' is a built in function that returns the absolute value of a number. Therefore this function inputs the coords defined above and adds up each side of the polygon to compute the perimeter.\n",
    "        for ((x0, y0), (x1, y1)) in segments(coords)))\n",
    "\n",
    "\n",
    "def polygarea(coords):\n",
    "    \"\"\"\n",
    "    Defines a function 'polygarea' which computes the area of a polygon based on Green's theorem.  The parameters are a sequence of (x,y) numeric coordinates pairs. \n",
    "    \"\"\"\n",
    "    return 0.5 * abs(sum(x[i] * (y[i + 1] - y[i - 1])  for ((x0, y0), (x1, y1)) in segments(coords)))   #This function attempts to compute the area of a polygon based on Green's theorem. It should run through the inputted coords and sum across the vertices using the formula presented.\n",
    "      \n",
    "    \n",
    "polygperim(coords)   #Given the values of coords above we should expect to get the output of 8 since each side of the square is length 2 therefore 2+2+2+2=8.\n"
   ]
  },
  {
   "cell_type": "code",
   "execution_count": null,
   "metadata": {
    "collapsed": true
   },
   "outputs": [],
   "source": []
  }
 ],
 "metadata": {
  "kernelspec": {
   "display_name": "Python 2",
   "language": "python",
   "name": "python2"
  },
  "language_info": {
   "codemirror_mode": {
    "name": "ipython",
    "version": 2
   },
   "file_extension": ".py",
   "mimetype": "text/x-python",
   "name": "python",
   "nbconvert_exporter": "python",
   "pygments_lexer": "ipython2",
   "version": "2.7.10"
  }
 },
 "nbformat": 4,
 "nbformat_minor": 0
}
