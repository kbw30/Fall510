{
 "cells": [
  {
   "cell_type": "markdown",
   "metadata": {},
   "source": [
    "# Kelly Whelan\n",
    "# HW2_Python"
   ]
  },
  {
   "cell_type": "code",
   "execution_count": 132,
   "metadata": {
    "collapsed": false
   },
   "outputs": [
    {
     "name": "stdout",
     "output_type": "stream",
     "text": [
      "[1]\n",
      "[0, 1, 1, 2, 3, 5, 8]\n",
      "[0, 1, 1]\n",
      "[0, 1, 1, 2, 3, 5, 8, 13, 21, 34, 55, 89]\n"
     ]
    }
   ],
   "source": [
    "#Defines a function 'fib()' that takes a number 'n' as a parameter and outputs all the Fibonacci numbers less than 'n' \n",
    "\n",
    "def fib(n):                 \n",
    "    fib1 = [0, 1]                              #assigns 'fib1=[0,1]' for the first two positions in the sequence\n",
    "    \n",
    "    if n == 0: return [0]                      #this initial condition explains that if the input is 0 then it outputs the list with only 0 in it\n",
    "    elif n == 1: return [1]                    #this second condition says the same thing as the initial condition and tells the function to output the list with only 1 in it if 1 is the input \n",
    "    else:                                      #if the input is neither 0 or 1 then it takes the number and runs it through the sequence and outputs the numbers before the position entered\n",
    "        for i in range(2,n):                   #the range calls from 2 on because the first two conditions covered 0 and 1\n",
    "            v = fib1[i-1]+fib1[i-2]            \n",
    "            fib1.append(v)                     #this appends the list [0,1] before the number if it is in the range(2,n) and runs through the sequence for the position \n",
    "    return fib1\n",
    "        \n",
    "print(fib(1))                                  #this output should cooperate with the elif condition and return [1] because n=1\n",
    "print(fib(7))                                  #this should return the 7 numbers at the start of the sequence because of the append function that runs through the sequence based on the input\n",
    "print(fib(3))                                  #outputs the sequence with the numbers less than 3 which is the first three positions of the sequence \n",
    "print(fib(12))                                 #input 12 should output the twelve positions at the start of the sequence because the function prints all the Fibonacci numbers less than the input value"
   ]
  },
  {
   "cell_type": "code",
   "execution_count": 33,
   "metadata": {
    "collapsed": false
   },
   "outputs": [
    {
     "name": "stdout",
     "output_type": "stream",
     "text": [
      "7\n",
      "9\n"
     ]
    }
   ],
   "source": [
    "def mymax (x,y):                    #Defines function that takes two numbers as arguments and returns the largest if them\n",
    "    return x if x > y else y        #the function says to return the first number if it is > the second number, otherwise return the second number\n",
    "    \n",
    "print(mymax(7,3))                   #the function should output 7 because 7>3\n",
    "print(mymax(1,9))                   #should return 9 because 1<9 referring to the 'else y' in the function"
   ]
  },
  {
   "cell_type": "code",
   "execution_count": 67,
   "metadata": {
    "collapsed": false
   },
   "outputs": [
    {
     "name": "stdout",
     "output_type": "stream",
     "text": [
      "4\n",
      "7\n"
     ]
    }
   ],
   "source": [
    "def max_of_three(x,y,z):       #This is a function that takes three numbers as arguments and returns the largest of them\n",
    "    t = x                      \n",
    "    if y > t:                  #if the second number is larger than the input of the first number then the second number should be the output\n",
    "        t = y                  \n",
    "    if z > t:                  #if the third number is larger than the first and second number then the output should be the third number\n",
    "        t = z               \n",
    "    return t                   #after running through the function the output should return the value that is the largest of the arguments\n",
    "\n",
    "\n",
    "# And here is the function being used\n",
    "\n",
    "print max_of_three(2,3,4)      # the function is taking three numbers as parameters, 2,3,4, and returning the largest number which is 4\n",
    "print max_of_three(7,4,1)      # the function is taking three numbers as parameters, 7,4,1, and returning the largest number which is 7"
   ]
  },
  {
   "cell_type": "code",
   "execution_count": 43,
   "metadata": {
    "collapsed": false
   },
   "outputs": [
    {
     "name": "stdout",
     "output_type": "stream",
     "text": [
      "6\n",
      "12\n"
     ]
    }
   ],
   "source": [
    "def mylen(s):                      #Defines a function 'mylen()' that computes the length of a given list or string \n",
    "    if s== '': return 0            #if the input is an empty string '', then the function returns 0\n",
    "    return 1 + mylen(s[1:])        #otherwise, it starts counting the length of the word given until the last letter and outputs the total number of letters \n",
    "\n",
    "\n",
    "# The function being used\n",
    "\n",
    "print(mylen('length'))             #'length' has 6 letters in it so the output should present 6\n",
    "print(mylen('Hello there!'))       #'Hello there!' has 10 letters, 1 exclamation point, and one space between the words hello and there so the output should add all of that and be 12"
   ]
  },
  {
   "cell_type": "code",
   "execution_count": 41,
   "metadata": {
    "collapsed": false
   },
   "outputs": [
    {
     "name": "stdout",
     "output_type": "stream",
     "text": [
      "False\n",
      "True\n",
      "True\n"
     ]
    }
   ],
   "source": [
    "def vowel(char):                                             #Defines a function 'vowel()' that takes a character and returns True if it is a vowel, False otherwise\n",
    "    return False if 'aeiouAEIOU'.find(char) < 0 else True    #find means to look through the string given and find the given set of vowels\n",
    "                                                             #if there is >0 vowels in the string output True and if there is not any vowels in the given input return False\n",
    "\n",
    "print(vowel('h'))                  #this should output False because 'h' is not in 'aeiouAEIOU' as defined in the function\n",
    "print(vowel('i'))                  #this should return True because 'i' is a vowel\n",
    "print(vowel('O'))                  #this should return True because 'O' is a vowel"
   ]
  },
  {
   "cell_type": "code",
   "execution_count": 105,
   "metadata": {
    "collapsed": false
   },
   "outputs": [
    {
     "name": "stdout",
     "output_type": "stream",
     "text": [
      "tothohisos isos fofunon\n",
      "kokelollolyoy\n"
     ]
    }
   ],
   "source": [
    "#Defines a function 'translate()' that will double every consonant and place am occurrence of \"o\" in between otherwise if it is a vowel keep the same and go through the remainding text\n",
    "def translate(s):\n",
    "    s_new = '' \n",
    "    for i in s:\n",
    "        if i in('a','e','i','o','u','A','E','I','O','U', ' '):   #the vowels\n",
    "            s_new = s_new + str(i)                               #the built in function 'str' means to return a string containing a nicely printable representation of an object\n",
    "                                                                 #this means if there is a vowel in the string input to continue through the string without placing an 'o' in between\n",
    "        else:\n",
    "            s_new = s_new + str(i) + 'o' + str(i)                #if there is a consonant in the input this states to place an 'o' between the consonant and attach that consonant after the 'o'\n",
    "    return s_new\n",
    "\n",
    "    \n",
    "    \n",
    "print(translate('this is fun'))                                   #this should place an 'o' between the consonants and leave the vowels the same making the output 'tothohisos isos fofunon'\n",
    "print(translate('kelly'))"
   ]
  },
  {
   "cell_type": "code",
   "execution_count": 88,
   "metadata": {
    "collapsed": false
   },
   "outputs": [
    {
     "name": "stdout",
     "output_type": "stream",
     "text": [
      "14\n",
      "140\n"
     ]
    }
   ],
   "source": [
    "def sum(w,x,y,z):                 #Defines a function sum() that sums all the numbers in a list of numbers \n",
    "    return w+x+y+z\n",
    "\n",
    "print(sum(2,3,4,5))               #For example, sum(2,3,4,5) should return 14 because 2+3+4+5=14 \n",
    "\n",
    "\n",
    "def multiply(w,x,y,z):            #Defines a function multiply() that multiplies all the numbers in a list of numbers \n",
    "    return w*x*y*z\n",
    "\n",
    "print(multiply(1,4,5,7))          #For example, multiply(1,4,5,7) should return 140 because 1*4*5*7=140\n"
   ]
  },
  {
   "cell_type": "code",
   "execution_count": 72,
   "metadata": {
    "collapsed": false
   },
   "outputs": [
    {
     "name": "stdout",
     "output_type": "stream",
     "text": [
      "olleH\n",
      "sgnitS\n"
     ]
    }
   ],
   "source": [
    "#Defines a function 'reverse()' that computes the reversal of a string\n",
    "def reverse(s):\n",
    "    return ''.join([s[i] for i in xrange(len(s)-1, -1, -1)])     #''.join means an empty string to which we join another string\n",
    "                                                                 #the built in function 'xrange' is very similar to range(), but returns an xrange object instead of a list\n",
    "                                                                 #the built in function 'len' returns the length (the number of items) of an object\n",
    "print(reverse('Hello'))         #this input should output the reversal of 'Hello' which would be 'olleH'\n",
    "print(reverse('Stings'))        #this should return 'sgnitS' which is the reverse of 'String'"
   ]
  },
  {
   "cell_type": "code",
   "execution_count": 73,
   "metadata": {
    "collapsed": false
   },
   "outputs": [
    {
     "name": "stdout",
     "output_type": "stream",
     "text": [
      "True\n",
      "False\n",
      "True\n"
     ]
    }
   ],
   "source": [
    "def is_palindrome(word):                      #Defines a function that recognizes palindromes, words that look the same written backwards, and returns True otherwise False\n",
    "    if len(word) < 2: return True             #the built in function 'len' returns the length (the number of items) of an object. If the length of the word is <2 the function returns True, for example 'h' if entered as an input is automatically true because it is one letter making it the same forwards and backwards\n",
    "    if word[0] != word[-1]: return False      # '!=' means not equal\n",
    "    return (is_palindrome(word[1:-1]))        #if the word is the same word written backwards the function returns True\n",
    "\n",
    "print(is_palindrome('radar'))                 #the input 'radar' should return True because it is the same word written backwards\n",
    "print(is_palindrome('hello'))                 #'hello' does not spell the same word written backwards, therefore, it should output False\n",
    "print(is_palindrome('k'))                     #this input satisfies the first condition in the code above stating a word of length <2 and returns True because the letter 'k' is still 'k' written backwards"
   ]
  },
  {
   "cell_type": "code",
   "execution_count": 130,
   "metadata": {
    "collapsed": false
   },
   "outputs": [
    {
     "name": "stdout",
     "output_type": "stream",
     "text": [
      "True\n",
      "True\n",
      "False\n",
      "True\n"
     ]
    }
   ],
   "source": [
    "def is_member(x,a):                          #Defines a function 'is_member' that takes a value x and a list of values a, and returns True if x is a member of a, False otherwise\n",
    "     \n",
    "    for item in a:                           #this calls for an object that is defined for x in the list and if so it returns True\n",
    "        if x == item: return True\n",
    "    return False                             #if the value is not in the list then the output is False\n",
    "            \n",
    "\n",
    "print(is_member(1,[1,2,3]))                  #takes the number and runs it through the list of numbers to see if that number is in the list of numbers and if so outputs True, otherwise False \n",
    "print(is_member(4,[4,2,3]))\n",
    "print(is_member(5,[7,8]))\n",
    "print(is_member('a',['a','b','b']))          #takes the string 'a' and runs it through the list of strings ['a','b','b'] and outputs whether or not there exist an 'a' in the list of strings by True or False "
   ]
  },
  {
   "cell_type": "code",
   "execution_count": 75,
   "metadata": {
    "collapsed": false
   },
   "outputs": [
    {
     "name": "stdout",
     "output_type": "stream",
     "text": [
      "True\n",
      "False\n"
     ]
    }
   ],
   "source": [
    "#Defines a function overlapping() which takes two lists and, \n",
    "#returns True if they have at least one member in common\n",
    "    \n",
    "def overlapping(a,b):\n",
    "    for char1 in a:                              \n",
    "        for char2 in b:\n",
    "            if char1 == char2: return True       #this checks if the characters in the first list equal characters in the second list and if there is at least one in common the function returns True\n",
    "    return False                                 #if the two lists do not have any elements in common the function returns False\n",
    "    \n",
    "print(overlapping([1,2,3],[2,3,5]))              #this should return True because 2 and 3 are in both lists, therefore, they have at least one element in common\n",
    "print(overlapping([1,2,7],[12,13,15]))           #this should return False because the first and second list do not have any numbers in common making the function return False\n"
   ]
  },
  {
   "cell_type": "code",
   "execution_count": 129,
   "metadata": {
    "collapsed": false
   },
   "outputs": [
    {
     "name": "stdout",
     "output_type": "stream",
     "text": [
      "xxxxx\n",
      "ppppppp\n"
     ]
    }
   ],
   "source": [
    "def generate_n_chars(number,character):         #Defines a function 'generate_n_chars()' that takes an integer n and a character c and returns a string, n characters long, consisting only of c:s\n",
    "    new_string=''                               #this defines an empty string that we want to put all of our things into\n",
    "     \n",
    "    for i in range(number):                     #'range' is a built in function that creates lists or progression     \n",
    "        new_string = new_string+character       #this outputs the number of characters in the second postion\n",
    "    return new_string                           #returns the string with the amount of characters that is inputted into the function\n",
    "    \n",
    "print(generate_n_chars(5,'x'))                 #should return the string 'xxxxx' which consists of 5 x's\n",
    "print(generate_n_chars(7,'p'))                 #should return the string 'ppppppp' which is 7 p's\n"
   ]
  },
  {
   "cell_type": "code",
   "execution_count": null,
   "metadata": {
    "collapsed": true
   },
   "outputs": [],
   "source": []
  }
 ],
 "metadata": {
  "kernelspec": {
   "display_name": "Python 2",
   "language": "python",
   "name": "python2"
  },
  "language_info": {
   "codemirror_mode": {
    "name": "ipython",
    "version": 2
   },
   "file_extension": ".py",
   "mimetype": "text/x-python",
   "name": "python",
   "nbconvert_exporter": "python",
   "pygments_lexer": "ipython2",
   "version": "2.7.10"
  }
 },
 "nbformat": 4,
 "nbformat_minor": 0
}
